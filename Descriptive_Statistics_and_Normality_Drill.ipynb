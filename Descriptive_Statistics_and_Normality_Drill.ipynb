{
 "cells": [
  {
   "cell_type": "code",
   "execution_count": 1,
   "metadata": {
    "collapsed": true
   },
   "outputs": [],
   "source": [
    "import numpy as np\n",
    "import pandas as pd\n",
    "import matplotlib.pyplot as plt\n",
    "import statistics\n",
    "%matplotlib inline"
   ]
  },
  {
   "cell_type": "code",
   "execution_count": 36,
   "metadata": {
    "collapsed": false
   },
   "outputs": [
    {
     "data": {
      "image/png": "[encoded data removed]",
      "text/plain": [
       "<matplotlib.figure.Figure at 0x105cf50f0>"
      ]
     },
     "metadata": {},
     "output_type": "display_data"
    },
    {
     "data": {
      "text/plain": [
       "'The mean and standard deviation of this distribution are fairly useful in providing information about the distribution.  Though the distribution is not perfectly symmetrical, it does take on a relatively symmetrical shape with the data clustering and roughly centered around the mean and roughly two-thirds of the data falling within 1 standard deviation of the mean.'"
      ]
     },
     "execution_count": 36,
     "metadata": {},
     "output_type": "execute_result"
    }
   ],
   "source": [
    "beta = np.random.beta(20, 5, 100)\n",
    "plt.hist(beta, color = 'c')\n",
    "plt.axvline(beta.mean(), color = 'b', linestyle = 'solid', linewidth = 2)\n",
    "plt.axvline(beta.mean() + beta.std(), color = 'b', linestyle = 'dashed', linewidth = 2)\n",
    "plt.axvline(beta.mean() - beta.std(), color = 'b', linestyle = 'dashed', linewidth = 2)\n",
    "plt.show()\n",
    "\"\"\"The mean and standard deviation of this distribution are reasonably useful in providing information about the distribution.  Though the distribution is not perfectly symmetrical, it does take on a relatively symmetrical shape with the data clustering and roughly centered around the mean and roughly two-thirds of the data falling within 1 standard deviation of the mean.\"\"\""
   ]
  },
  {
   "cell_type": "code",
   "execution_count": 33,
   "metadata": {
    "collapsed": false
   },
   "outputs": [
    {
     "data": {
      "image/png": "[encoded data removed]",
      "text/plain": [
       "<matplotlib.figure.Figure at 0x105a8c278>"
      ]
     },
     "metadata": {},
     "output_type": "display_data"
    },
    {
     "data": {
      "text/plain": [
       "'The descriptive statistics do not provide useful information about this distribution.  The shape of the distribution is not symmetrical, the data cluster is not centered around the around the mean, and the standard deviation does not encompass the same amount of data on each side of the mean.'"
      ]
     },
     "execution_count": 33,
     "metadata": {},
     "output_type": "execute_result"
    }
   ],
   "source": [
    "exponential = np.random.exponential(10.0, 100)\n",
    "plt.hist(exponential, color = 'c')\n",
    "plt.axvline(exponential.mean(), color = 'b', linestyle = 'solid', linewidth = 2)\n",
    "plt.axvline(exponential.mean() + exponential.std(), color = 'b', linestyle = 'dashed', linewidth = 2)\n",
    "plt.axvline(exponential.mean() - exponential.std(), color = 'b', linestyle = 'dashed', linewidth = 2)\n",
    "plt.show()\n",
    "\"\"\"The descriptive statistics do not provide useful information about this distribution.  The shape of the distribution is not symmetrical, the data cluster is not centered around the around the mean, and the standard deviation does not encompass the same amount of data on each side of the mean.\"\"\""
   ]
  },
  {
   "cell_type": "code",
   "execution_count": 35,
   "metadata": {
    "collapsed": false
   },
   "outputs": [
    {
     "data": {
      "image/png": "[encoded data removed]",
      "text/plain": [
       "<matplotlib.figure.Figure at 0x105bb3e48>"
      ]
     },
     "metadata": {},
     "output_type": "display_data"
    },
    {
     "data": {
      "text/plain": [
       "'The descriptive statistics do not provide useful information about this distribution.  The data cluster around the mean is not centered, and the standard deviation does not encompass the same amount of data on either side of the mean.'"
      ]
     },
     "execution_count": 35,
     "metadata": {},
     "output_type": "execute_result"
    }
   ],
   "source": [
    "gumbel = np.random.gumbel(0, 1, 100)\n",
    "plt.hist(gumbel, color = 'c')\n",
    "plt.axvline(gumbel.mean(), color = 'b', linestyle = 'solid', linewidth = 2)\n",
    "plt.axvline(gumbel.mean() + gumbel.std(), color = 'b', linestyle = 'dashed', linewidth = 2)\n",
    "plt.axvline(gumbel.mean() - gumbel.std(), color = 'b', linestyle = 'dashed', linewidth = 2)\n",
    "plt.show()\n",
    "\"\"\"The descriptive statistics do not provide useful information about this distribution.  The data cluster around the mean is not centered, and the standard deviation does not encompass the same amount of data on either side of the mean.\"\"\""
   ]
  },
  {
   "cell_type": "code",
   "execution_count": 40,
   "metadata": {
    "collapsed": false,
    "scrolled": true
   },
   "outputs": [
    {
     "data": {
      "image/png": "[encoded data removed]",
      "text/plain": [
       "<matplotlib.figure.Figure at 0x1058ed128>"
      ]
     },
     "metadata": {},
     "output_type": "display_data"
    },
    {
     "data": {
      "text/plain": [
       "'The mean and standard deviation of this distribution are reasonably useful in providing information about the distribution.  Though the distribution is not perfectly symmetrical, it does take on a relatively symmetrical shape with the data clustering and roughly centered around the mean and roughly two-thirds of the data falling within 1 standard deviation of the mean.'"
      ]
     },
     "execution_count": 40,
     "metadata": {},
     "output_type": "execute_result"
    }
   ],
   "source": [
    "multinomials = np.random.multinomial(20, [1/6.]*6, 100)\n",
    "plt.hist(multinomials)\n",
    "plt.axvline(multinomials.mean(), color = 'b', linestyle = 'solid', linewidth = 2)\n",
    "plt.axvline(multinomials.mean() + multinomials.std(), color = 'b', linestyle = 'dashed', linewidth = 2)\n",
    "plt.axvline(multinomials.mean() - multinomials.std(), color = 'b', linestyle = 'dashed', linewidth = 2)\n",
    "plt.show()\n",
    "\"\"\"The mean and standard deviation of this distribution are reasonably useful in providing information about the distribution.  Though the distribution is not perfectly symmetrical, it does take on a relatively symmetrical shape with the data clustering and roughly centered around the mean and roughly two-thirds of the data falling within 1 standard deviation of the mean.\"\"\""
   ]
  },
  {
   "cell_type": "code",
   "execution_count": 44,
   "metadata": {
    "collapsed": false
   },
   "outputs": [
    {
     "data": {
      "image/png": "[encoded data removed]",
      "text/plain": [
       "<matplotlib.figure.Figure at 0x105886f98>"
      ]
     },
     "metadata": {},
     "output_type": "display_data"
    },
    {
     "data": {
      "text/plain": [
       "'The descriptive statistics are not very useful in providing information about this distribution.  Though the mean is roughly centered on the distribution, and the distribution is roughly symmetrical, the data does not deem to cluster around it, but instead the data seems to cluster 1 standard deviation on either side of the mean.'"
      ]
     },
     "execution_count": 44,
     "metadata": {},
     "output_type": "execute_result"
    }
   ],
   "source": [
    "uniform = np.random.uniform(0, 1, 100)\n",
    "plt.hist(uniform, color = 'c')\n",
    "plt.axvline(uniform.mean(), color = 'b', linestyle = 'solid', linewidth = 2)\n",
    "plt.axvline(uniform.mean() + uniform.std(), color = 'b', linestyle = 'dashed', linewidth = 2)\n",
    "plt.axvline(uniform.mean() - uniform.std(), color = 'b', linestyle = 'dashed', linewidth = 2)\n",
    "plt.show()\n",
    "\"\"\"The descriptive statistics are not very useful in providing information about this distribution.  Though the mean is roughly centered on the distribution, and the distribution is roughly symmetrical, the data does not deem to cluster around it, but instead the data seems to cluster 1 standard deviation on either side of the mean.\"\"\""
   ]
  },
  {
   "cell_type": "code",
   "execution_count": 45,
   "metadata": {
    "collapsed": false
   },
   "outputs": [
    {
     "data": {
      "image/png": "[encoded data removed]",
      "text/plain": [
       "<matplotlib.figure.Figure at 0x105c6cd68>"
      ]
     },
     "metadata": {},
     "output_type": "display_data"
    },
    {
     "data": {
      "text/plain": [
       "'The descriptive statistics do not provide useful information about this distribution.  The shape of the distribution is not symmetrical, the data cluster is not centered around the around the mean, and the standard deviation does not encompass the same amount of data on each side of the mean.'"
      ]
     },
     "execution_count": 45,
     "metadata": {},
     "output_type": "execute_result"
    }
   ],
   "source": [
    "pareto = np.random.pareto(10, 100)\n",
    "plt.hist(pareto, color = 'c')\n",
    "plt.axvline(pareto.mean(), color = 'b', linestyle = 'solid', linewidth = 2)\n",
    "plt.axvline(pareto.mean() + pareto.std(), color = 'b', linestyle = 'dashed', linewidth = 2)\n",
    "plt.axvline(pareto.mean() - pareto.std(), color = 'b', linestyle = 'dashed', linewidth = 2)\n",
    "plt.show()\n",
    "\"\"\"The descriptive statistics do not provide useful information about this distribution.  The shape of the distribution is not symmetrical, the data cluster is not centered around the around the mean, and the standard deviation does not encompass the same amount of data on each side of the mean.\"\"\""
   ]
  },
  {
   "cell_type": "code",
   "execution_count": 46,
   "metadata": {
    "collapsed": false
   },
   "outputs": [
    {
     "data": {
      "image/png": "[encoded data removed]",
      "text/plain": [
       "<matplotlib.figure.Figure at 0x105cdd588>"
      ]
     },
     "metadata": {},
     "output_type": "display_data"
    },
    {
     "data": {
      "text/plain": [
       "'The mean and standard deviation of this distribution are reasonably useful in providing information about the distribution.  Though the distribution is not perfectly symmetrical, it does take on a relatively symmetrical shape with the data clustering and roughly centered around the mean and roughly two-thirds of the data falling within 1 standard deviation of the mean.'"
      ]
     },
     "execution_count": 46,
     "metadata": {},
     "output_type": "execute_result"
    }
   ],
   "source": [
    "normal = np.random.normal(5, .5, 100)\n",
    "normal_1 = np.random.normal(10, 1, 100)\n",
    "normal_2 = normal + normal_1\n",
    "plt.hist(normal_2, color = 'c')\n",
    "plt.axvline(normal_2.mean(), color = 'b', linestyle = 'solid', linewidth = 2)\n",
    "plt.axvline(normal_2.mean() + normal_2.std(), color = 'b', linestyle = 'dashed', linewidth = 2)\n",
    "plt.axvline(normal_2.mean() - normal_2.std(), color = 'b', linestyle = 'dashed', linewidth = 2)\n",
    "plt.show()\n",
    "\"\"\"The mean and standard deviation of this distribution are reasonably useful in providing information about the distribution.  Though the distribution is not perfectly symmetrical, it does take on a relatively symmetrical shape with the data clustering and roughly centered around the mean and roughly two-thirds of the data falling within 1 standard deviation of the mean.\"\"\""
   ]
  },
  {
   "cell_type": "code",
   "execution_count": null,
   "metadata": {
    "collapsed": true
   },
   "outputs": [],
   "source": []
  }
 ],
 "metadata": {
  "kernelspec": {
   "display_name": "Python 3",
   "language": "python",
   "name": "python3"
  },
  "language_info": {
   "codemirror_mode": {
    "name": "ipython",
    "version": 3
   },
   "file_extension": ".py",
   "mimetype": "text/x-python",
   "name": "python",
   "nbconvert_exporter": "python",
   "pygments_lexer": "ipython3",
   "version": "3.6.0"
  }
 },
 "nbformat": 4,
 "nbformat_minor": 2
}
